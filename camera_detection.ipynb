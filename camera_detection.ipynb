{
 "cells": [
  {
   "cell_type": "code",
   "execution_count": 114,
   "id": "alive-essex",
   "metadata": {},
   "outputs": [],
   "source": [
    "#from keras.models import load_model\n",
    "from tensorflow.keras.models import load_model\n",
    "from keras.initializers import glorot_uniform\n",
    "from tensorflow.keras.preprocessing.image import img_to_array\n",
    "from keras.utils import CustomObjectScope\n",
    "import cvlib as cv\n",
    "import pandas as pd\n",
    "import cv2\n",
    "import numpy as np\n",
    "import matplotlib.pyplot as plt\n",
    "%matplotlib inline"
   ]
  },
  {
   "cell_type": "code",
   "execution_count": 37,
   "id": "deluxe-server",
   "metadata": {},
   "outputs": [],
   "source": [
    "link='Downloads/model_emotion.h5'\n",
    "model=load_model(link)"
   ]
  },
  {
   "cell_type": "code",
   "execution_count": 38,
   "id": "sustainable-solomon",
   "metadata": {},
   "outputs": [
    {
     "name": "stdout",
     "output_type": "stream",
     "text": [
      "Model: \"DCNN\"\n",
      "_________________________________________________________________\n",
      "Layer (type)                 Output Shape              Param #   \n",
      "=================================================================\n",
      "conv2d_1 (Conv2D)            (None, 48, 48, 64)        1664      \n",
      "_________________________________________________________________\n",
      "batchnorm_1 (BatchNormalizat (None, 48, 48, 64)        256       \n",
      "_________________________________________________________________\n",
      "conv2d_2 (Conv2D)            (None, 48, 48, 64)        102464    \n",
      "_________________________________________________________________\n",
      "batchnorm_2 (BatchNormalizat (None, 48, 48, 64)        256       \n",
      "_________________________________________________________________\n",
      "maxpool2d_1 (MaxPooling2D)   (None, 24, 24, 64)        0         \n",
      "_________________________________________________________________\n",
      "dropout_1 (Dropout)          (None, 24, 24, 64)        0         \n",
      "_________________________________________________________________\n",
      "conv2d_3 (Conv2D)            (None, 24, 24, 128)       73856     \n",
      "_________________________________________________________________\n",
      "batchnorm_3 (BatchNormalizat (None, 24, 24, 128)       512       \n",
      "_________________________________________________________________\n",
      "conv2d_4 (Conv2D)            (None, 24, 24, 128)       147584    \n",
      "_________________________________________________________________\n",
      "batchnorm_4 (BatchNormalizat (None, 24, 24, 128)       512       \n",
      "_________________________________________________________________\n",
      "maxpool2d_2 (MaxPooling2D)   (None, 12, 12, 128)       0         \n",
      "_________________________________________________________________\n",
      "dropout_2 (Dropout)          (None, 12, 12, 128)       0         \n",
      "_________________________________________________________________\n",
      "conv2d_5 (Conv2D)            (None, 12, 12, 256)       295168    \n",
      "_________________________________________________________________\n",
      "batchnorm_5 (BatchNormalizat (None, 12, 12, 256)       1024      \n",
      "_________________________________________________________________\n",
      "conv2d_6 (Conv2D)            (None, 12, 12, 256)       590080    \n",
      "_________________________________________________________________\n",
      "batchnorm_6 (BatchNormalizat (None, 12, 12, 256)       1024      \n",
      "_________________________________________________________________\n",
      "maxpool2d_3 (MaxPooling2D)   (None, 6, 6, 256)         0         \n",
      "_________________________________________________________________\n",
      "dropout_3 (Dropout)          (None, 6, 6, 256)         0         \n",
      "_________________________________________________________________\n",
      "conv2d_7 (Conv2D)            (None, 6, 6, 256)         590080    \n",
      "_________________________________________________________________\n",
      "batchnorm_7 (BatchNormalizat (None, 6, 6, 256)         1024      \n",
      "_________________________________________________________________\n",
      "conv2d_8 (Conv2D)            (None, 6, 6, 256)         590080    \n",
      "_________________________________________________________________\n",
      "batchnorm_8 (BatchNormalizat (None, 6, 6, 256)         1024      \n",
      "_________________________________________________________________\n",
      "maxpool2d_4 (MaxPooling2D)   (None, 3, 3, 256)         0         \n",
      "_________________________________________________________________\n",
      "dropout_4 (Dropout)          (None, 3, 3, 256)         0         \n",
      "_________________________________________________________________\n",
      "flatten (Flatten)            (None, 2304)              0         \n",
      "_________________________________________________________________\n",
      "dense_1 (Dense)              (None, 128)               295040    \n",
      "_________________________________________________________________\n",
      "batchnorm_9 (BatchNormalizat (None, 128)               512       \n",
      "_________________________________________________________________\n",
      "dropout_5 (Dropout)          (None, 128)               0         \n",
      "_________________________________________________________________\n",
      "out_layer (Dense)            (None, 6)                 774       \n",
      "=================================================================\n",
      "Total params: 2,692,934\n",
      "Trainable params: 2,689,862\n",
      "Non-trainable params: 3,072\n",
      "_________________________________________________________________\n"
     ]
    }
   ],
   "source": [
    "model.summary()"
   ]
  },
  {
   "cell_type": "code",
   "execution_count": 39,
   "id": "plain-technician",
   "metadata": {},
   "outputs": [],
   "source": [
    "mapper={0:'Anger', 1:'Fear', 2:'Happiness', 3:'Sadness', 4:'Surprise', 5:'Neutral'}"
   ]
  },
  {
   "cell_type": "markdown",
   "id": "hidden-paint",
   "metadata": {},
   "source": [
    "# To process through camera"
   ]
  },
  {
   "cell_type": "code",
   "execution_count": 113,
   "id": "junior-suspect",
   "metadata": {},
   "outputs": [],
   "source": [
    "vd=cv2.VideoCapture(0)\n",
    "while vd.isOpened():\n",
    "    ret,frame=vd.read()\n",
    "    face, confidence=cv.detect_face(frame)\n",
    "    gray=cv2.cvtColor(frame, cv2.COLOR_BGR2GRAY)\n",
    "    for idx, f in enumerate(face):\n",
    "        start_x,start_y,end_x,end_y=f[0],f[1],f[2],f[3]\n",
    "        #cv2.rectangle(frame,(start_x,start_y),(end_x,end_y),(0,255,0),2)\n",
    "        face_crop=gray[start_y:end_y,start_x:end_x]\n",
    "        face_crop = cv2.resize(face_crop, (48,48))\n",
    "        face_crop = face_crop.astype(\"float\") / 255.0\n",
    "        face_crop=face_crop.reshape((1,48,48,1))\n",
    "        label=mapper[model.predict_classes(face_crop)[0]]\n",
    "        y=start_y-10 if start_y-10>10 else start_y +10\n",
    "        if label == 'Anger':\n",
    "            cv2.putText(frame, label, (start_x, y),  cv2.FONT_HERSHEY_SIMPLEX,0.7, (0, 0, 255), 2)\n",
    "            cv2.rectangle(frame,(start_x,start_y),(end_x,end_y),(0,0,255),2)\n",
    "        elif label=='Happiness':\n",
    "            cv2.putText(frame, label, (start_x, y),  cv2.FONT_HERSHEY_SIMPLEX,0.7, (147,20,255), 2)\n",
    "            cv2.rectangle(frame,(start_x,start_y),(end_x,end_y),(147,29,255),2)\n",
    "        else:    \n",
    "            cv2.putText(frame, label, (start_x, y),  cv2.FONT_HERSHEY_SIMPLEX,0.7, (0, 255, 0), 2)\n",
    "            cv2.rectangle(frame,(start_x,start_y),(end_x,end_y),(0,255,0),2)\n",
    "    cv2.imshow('frame', frame)\n",
    "    if cv2.waitKey(1) & 0xFF ==ord('q'):\n",
    "        break\n",
    "vd.release()\n",
    "cv2.destroyAllWindows()\n",
    "    "
   ]
  },
  {
   "cell_type": "code",
   "execution_count": null,
   "id": "careful-jersey",
   "metadata": {},
   "outputs": [],
   "source": []
  }
 ],
 "metadata": {
  "kernelspec": {
   "display_name": "Python 3",
   "language": "python",
   "name": "python3"
  },
  "language_info": {
   "codemirror_mode": {
    "name": "ipython",
    "version": 3
   },
   "file_extension": ".py",
   "mimetype": "text/x-python",
   "name": "python",
   "nbconvert_exporter": "python",
   "pygments_lexer": "ipython3",
   "version": "3.6.12"
  }
 },
 "nbformat": 4,
 "nbformat_minor": 5
}
